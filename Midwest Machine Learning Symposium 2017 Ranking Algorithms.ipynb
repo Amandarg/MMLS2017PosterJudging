{
 "cells": [
  {
   "cell_type": "markdown",
   "metadata": {},
   "source": [
    "## Ranking algorithms\n",
    "### Authors: Amanda Bower, Lalit Jain\n",
    "In this notebook, we develop three rank aggregation algorithms for the MMLS poster competition. We will use the Borda, Bradley-Terry-Luce, and Kemeny aggregation methods. For the Kemeny aggregation, we provide brute force code, an implementation using ``lpsolve`` and an implementation using ``cvxopt/.glpk``.\n",
    "\n",
    "For more details, see LINK TO SHARELATEX PDF.\n",
    "\n",
    "Throughout our code, a partial ranking denotes a list of the form ``[a,b,c,...]`` which indicates that item `a` is better than item `b`, item `b` is better than item `c` etc. "
   ]
  },
  {
   "cell_type": "code",
   "execution_count": 1,
   "metadata": {
    "collapsed": true
   },
   "outputs": [],
   "source": [
    "import random\n",
    "from collections import defaultdict\n",
    "from itertools import combinations, permutations\n",
    "import numpy as np\n",
    "import matplotlib.pyplot as plt\n",
    "import seaborn as sns\n",
    "\n",
    "# UTILITY FUNCTIONS\n",
    "\n",
    "def build_N(rankings, n):\n",
    "    '''\n",
    "    Builds a nxn matrix from a set of rankings where the i-jth entry is the number of times i beats j\n",
    "    rankings: a list of (partial) rankings\n",
    "    n: number of items\n",
    "    \n",
    "    returns:\n",
    "    N: nxn matrix whose (i,j)th entry is # times i beat j\n",
    "    '''\n",
    "    N = np.zeros((n,n))\n",
    "    for r in rankings:\n",
    "        for i in range(len(r)):\n",
    "            for j in range(i+1, len(r)):\n",
    "                N[r[i],r[j]] += 1\n",
    "    return N\n",
    "\n",
    "def kendalltau_dist(rank, partial):\n",
    "    '''\n",
    "    Computes the Kendall-Tau distance between a FULL ranking (rank) and a PARTIAL ranking (partial). \n",
    "    The Kendall-Tau distance in this case is the number of pairs (i,j) where rank ranks i and j in a different\n",
    "    order from partial. If partial is a full ranking, this is the normal Kendall-Tau distance.\n",
    "    '''\n",
    "    d = 0\n",
    "    rank_inv = dict(zip(rank, range(len(rank)) ))\n",
    "    for i in range(len(partial)):\n",
    "        for j in range(i+1, len(partial)):\n",
    "            if rank_inv[partial[i]] > rank_inv[partial[j]]:\n",
    "                d+=1\n",
    "    return d"
   ]
  },
  {
   "cell_type": "markdown",
   "metadata": {},
   "source": [
    "### Kemeny Aggregation Code\n",
    "Kemeny aggregation finds a full ranking that minimizes the average distance to a set of partial rankings. In general\n",
    "a difficult combinatorial optimization problem, it can be reformulated as an integer linear program in an easy way.\n",
    "\n",
    "Our code is loosely based on the method here [http://vene.ro/blog/kemeny-young-optimal-rank-aggregation-in-python.html#note3](vene's blog)."
   ]
  },
  {
   "cell_type": "code",
   "execution_count": 2,
   "metadata": {
    "collapsed": true
   },
   "outputs": [],
   "source": [
    "def build_objective(N, extend=False):\n",
    "    '''\n",
    "    Returns the objective for the linear program.\n",
    "    '''\n",
    "    return N.ravel()\n",
    "\n",
    "def build_constraints(n, solver='lpsolve'):\n",
    "    '''\n",
    "    In the lp formulation of Kemeny rank aggregation a nxn 0-1 matrix x is used to encode the permutation. \n",
    "    x satisfies: x[i,j] + x[j,i] = 1, and x[i,j]+x[j,k]+x[k,i] >= 1\n",
    "    \n",
    "    This method builds these constraints in the appropriate form for lpsolve and glpk.\n",
    "    '''\n",
    "    idx = lambda i, j: n * i + j\n",
    "\n",
    "    #n choose 2 rows by n^2. rows are constraints and columns correspond to variables\n",
    "    pairwise_constraints = np.zeros(((n * (n - 1)) / 2, n ** 2))\n",
    "    for row, (i, j) in zip(pairwise_constraints, combinations(range(n), 2)):\n",
    "        row[[idx(i, j), idx(j, i)]] = 1\n",
    "    # and for every cycle of length 3\n",
    "    triangle_constraints = np.zeros(((n * (n - 1) *(n - 2)), n ** 2))\n",
    "    for row, (i, j, k) in zip(triangle_constraints, permutations(range(n), 3)):\n",
    "        row[[idx(i, j), idx(j, k), idx(k, i)]] = 1\n",
    "\n",
    "    if solver=='lpsolve':\n",
    "        constraints = np.vstack([pairwise_constraints, triangle_constraints])\n",
    "        constraint_rhs = np.hstack([np.ones(len(pairwise_constraints)),\n",
    "                                    np.ones(len(triangle_constraints))])\n",
    "        constraint_signs = np.hstack([np.zeros(len(pairwise_constraints)),\n",
    "                                      np.ones(len(triangle_constraints))])   # ==\n",
    "        return constraints, constraint_rhs, constraint_signs\n",
    "    elif solver=='glpk':\n",
    "        G = -1*triangle_constraints\n",
    "        h = -1*np.ones(len(G))\n",
    "        A = pairwise_constraints\n",
    "        b = np.ones(len(A))\n",
    "        return G,h,A,b\n",
    "    else:\n",
    "        raise\n",
    "\n",
    "def kemeny_lpsolve(rankings, n):\n",
    "    '''\n",
    "    Kemeny rank aggregation using lpsolve55\n",
    "    '''\n",
    "    from lp_solve import lp_solve\n",
    "    N = build_N(rankings, n)\n",
    "    c = -1*build_objective(N)\n",
    "    constraints, constraint_rhs, constraint_signs = build_constraints(n, 'lpsolve')\n",
    "    obj, x, duals = lp_solve(c, constraints, constraint_rhs, constraint_signs.T)\n",
    "                             #xint=range(1, 1 + n_candidates ** 2))\n",
    "    x = np.array(x).reshape((n, n))\n",
    "    aggr_rank = x.sum(axis=0)\n",
    "    return obj, np.argsort(aggr_rank)[::-1], x\n",
    "\n",
    "def kemeny_glpksolve(rankings,n):\n",
    "    '''\n",
    "    Kemeny rank aggregation using lpsolve55\n",
    "    '''\n",
    "    from cvxopt import matrix\n",
    "    from cvxopt.glpk import ilp\n",
    "    N = build_N(rankings, n)\n",
    "    c = build_objective(N)\n",
    "    G,h,A,b = build_constraints(n, 'glpk')\n",
    "    status, x = ilp(c, matrix(G), matrix(h), matrix(A), matrix(b),\n",
    "                    set(range(n**2)), set(range(n**2)))\n",
    "    x = np.array(x).reshape((n, n))\n",
    "    aggr_rank = x.sum(axis=0)\n",
    "    return None, np.argsort(aggr_rank)[::-1], x\n",
    "\n",
    "def rankaggr_brute(ranks, n):\n",
    "    '''\n",
    "    Kemeny rank aggregation using brute force methods. \n",
    "    DO NOT USE FOR n>9!!!\n",
    "    '''\n",
    "    min_dist = np.inf\n",
    "    best_rank = defaultdict(int)\n",
    "    count =0\n",
    "    for candidate_rank in permutations(range(n)):\n",
    "        if count % 100000 == 0:\n",
    "            print 'Candidate ', count\n",
    "        count +=1\n",
    "        dist = np.sum(kendalltau_dist(candidate_rank, rank) for rank in ranks)\n",
    "        if dist <= min_dist:\n",
    "            min_dist = dist\n",
    "            best_rank[candidate_rank]=dist\n",
    "    \n",
    "    min_dist = min(best_rank.values())\n",
    "    return [key for key, value in best_rank.iteritems() if value == min_dist]\n",
    "\n"
   ]
  },
  {
   "cell_type": "markdown",
   "metadata": {},
   "source": [
    "### Borda"
   ]
  },
  {
   "cell_type": "code",
   "execution_count": 3,
   "metadata": {
    "collapsed": true
   },
   "outputs": [],
   "source": [
    "def borda_reduction(rankings, n):\n",
    "    '''\n",
    "    Basic Borda Reduction method for computing the winner. \n",
    "    Computes the pairwise matrix N, and then normalizes the entries by the number of times i was compared to j.\n",
    "    '''\n",
    "    N = build_N(rankings, n)\n",
    "    M = np.zeros((n,n))\n",
    "    for i in range(n):\n",
    "        for j in range(n):\n",
    "            if i!=j:\n",
    "                total = N[i,j]+N[j,i]\n",
    "                if total == 0:\n",
    "                    M[i,j] = 0\n",
    "                else:\n",
    "                    M[i,j] = N[i,j]*1.0 / total\n",
    "    return np.argsort(np.sum(M, axis=1))[::-1]\n",
    "\n",
    "def borda_reduction_score(rankings, n):\n",
    "    '''\n",
    "    Basic Borda Reduction method for computing the winner. \n",
    "    Computes the pairwise matrix N, and then normalizes the entries by the number of times i was compared to j.\n",
    "    '''\n",
    "    d = defaultdict(int)\n",
    "    for r in ranks:\n",
    "        for i in range(len(r)):\n",
    "            d[r[i]] += 40-i\n",
    "    return sorted([(x, d[x]) for x in rank_dict.keys()], key=lambda x:x[1])[::-1]\n",
    "    \n",
    "\n"
   ]
  },
  {
   "cell_type": "markdown",
   "metadata": {},
   "source": [
    "### Bradley-Terry-Luce"
   ]
  },
  {
   "cell_type": "code",
   "execution_count": 4,
   "metadata": {
    "collapsed": true
   },
   "outputs": [],
   "source": [
    "def btl(rankings, n):\n",
    "    \"\"\"\n",
    "    Uses LogisticRegression to compute the btl scores based on the rankings. \n",
    "    \"\"\"\n",
    "    from sklearn.linear_model import LogisticRegression\n",
    "    X,y = get_X_y(rankings, n)\n",
    "    model = LogisticRegression(fit_intercept=False, verbose=True, C=1000000.)\n",
    "    # parameter C controls regularization. High C => less regularization\n",
    "    model = model.fit(X,y)\n",
    "    print model.coef_.flatten()\n",
    "    return np.argsort(model.coef_.flatten())[::-1]\n",
    "\n",
    "def get_X_y(rankings,n):\n",
    "    '''\n",
    "    Build the X and y matrices for the Logistic regression classifier.\n",
    "    '''\n",
    "    num_comparisons = 0\n",
    "    for r in rankings:\n",
    "        num_comparisons += len(r)*(len(r)-1)/2\n",
    "    num_comparisons = num_comparisons\n",
    "    X = np.zeros((num_comparisons,n))\n",
    "    y = np.zeros((num_comparisons))\n",
    "    comparison =0\n",
    "    for r in rankings:\n",
    "        for i in range(len(r)-1):\n",
    "            for j in range(i+1, len(r)):\n",
    "                lower  = min(r[i], r[j])\n",
    "                higher = max(r[i], r[j])\n",
    "                X[comparison, lower]=1\n",
    "                X[comparison, higher]=-1\n",
    "                if(lower == r[i]):\n",
    "                    y[comparison] = 1\n",
    "                else:\n",
    "                    y[comparison] = -1\n",
    "                comparison +=1\n",
    "\n",
    "    return X, y"
   ]
  },
  {
   "cell_type": "markdown",
   "metadata": {},
   "source": [
    "# ACTUAL DATA RUN"
   ]
  },
  {
   "cell_type": "code",
   "execution_count": 5,
   "metadata": {},
   "outputs": [
    {
     "name": "stdout",
     "output_type": "stream",
     "text": [
      "how many ballots 39\n",
      "averge length of ranking 5\n",
      "Dictionary of item to number of times it was ranked\n",
      "[(29, 1), (36, 1), (38, 1), (11, 2), (2, 3), (5, 3), (18, 3), (27, 3), (41, 3), (44, 3), (4, 4), (12, 4), (20, 4), (30, 4), (32, 4), (46, 4), (50, 4), (6, 5), (7, 5), (14, 5), (16, 5), (31, 5), (33, 5), (39, 5), (42, 5), (1, 6), (8, 6), (13, 6), (25, 6), (47, 6), (49, 6), (23, 7), (34, 7), (37, 7), (43, 7), (40, 9), (10, 10), (19, 11), (15, 13)]\n",
      "Histogram of number of ranks an item appeared in\n"
     ]
    },
    {
     "data": {
      "image/png": "[encoded data removed]",
      "text/plain": [
       "<matplotlib.figure.Figure at 0x10d7e2950>"
      ]
     },
     "metadata": {},
     "output_type": "display_data"
    },
    {
     "name": "stdout",
     "output_type": "stream",
     "text": [
      "Which indices appear in a ranking.\n",
      "39\n",
      "Number of pairwise comparisons an item appeared in\n",
      "pairwise_counts [ 33.   8.  22.  19.  32.  30.  39.   0.  49.   5.  34.  31.  32.  81.  33.\n",
      "   9.  55.  15.  29.  44.  16.   4.  21.  43.  11.  19.  27.   4.  17.   2.\n",
      "  23.  49.  28.  38.  33.  26.  34.  49.  49.  31.]\n",
      "for item = 2 and judge =5 0.0\n"
     ]
    },
    {
     "data": {
      "image/png": "[encoded data removed]",
      "text/plain": [
       "<matplotlib.figure.Figure at 0x1180af6d0>"
      ]
     },
     "metadata": {},
     "output_type": "display_data"
    },
    {
     "name": "stdout",
     "output_type": "stream",
     "text": [
      "borda [15, 19, 10, 8, 37, 23, 33, 49, 30, 39, 40, 14, 2, 46, 34, 32, 1, 47, 27, 25, 42, 16, 11, 13, 6, 7, 43, 12, 50, 41, 38, 18, 20, 31, 9, 36, 5, 4, 44, 29]\n",
      "borda using scores [15, 19, 10, 40, 37, 23, 34, 43, 1, 49, 47, 13, 25, 8, 39, 33, 6, 16, 7, 42, 14, 31, 32, 46, 20, 30, 50, 4, 12, 2, 18, 41, 27, 44, 5, 11, 38, 36, 29]\n"
     ]
    }
   ],
   "source": [
    "idxs = [1, 2, 4, 5, 6, 7, 8, 9, 10, 11, 12, 13, 14, 15, \n",
    "        16, 18, 19, 20, 23, 25, 27, 29, 30, 31, 32, 33, \n",
    "        34, 36, 37, 38, 39, 40, 41, 42, 43, 44, 46, 47, 49, 50]\n",
    "idx_dict = dict(zip(idxs, range(len(idxs))))\n",
    "\n",
    "ranks = [[1, 15], [24, 16, 3, 18], [28, 26], [16, 4, 11, 18], [16, 11, 24, 25, 18], \n",
    "         [14, 29, 0], [20, 24, 8], [18, 28, 21, 13, 8], [6, 39, 2], [30, 0], \n",
    "         [6, 13, 5, 22, 31, 34], [6, 5, 27, 18, 34], \n",
    "         [33, 12, 2, 3], [28, 26, 17], \n",
    "         [9, 31], [0, 19, 14, 31, 23, 39, 35, 13, 33, 37], \n",
    "         [22, 25], \n",
    "         [38, 37, 33, 16, 4, 39, 36, 32, 22, 23, 10, 3, 12, 6], \n",
    "         [8, 31, 1, 11],  [8, 15, 33, 37], [25, 30, 4, 17], [25, 24, 8], \n",
    "         [22, 19, 16], [16, 8, 39, 11, 10, 38, 34, 26], [8, 30, 34, 31, 26, 12, 13], \n",
    "         [18, 6, 31, 36, 5, 12, 16], [1, 10, 30, 0, 20], [26, 16, 34], [28, 13, 31], \n",
    "         [13, 38, 4, 28, 8, 15], [37, 38, 16, 13, 30, 25, 11, 19, 8, 6], [17, 28, 26], \n",
    "         [13, 0, 2, 19, 31, 35, 10, 20, 23, 33, 14], \n",
    "         [31, 0, 19, 23, 35, 13, 14, 2], [36, 32, 38, 13, 37, 17, 4, 8, 5], [16, 28], \n",
    "         [13, 34, 14, 16, 11, 18], [12, 13, 34, 23, 9], [36, 38, 37, 32, 13, 5, 26, 19]]\n",
    "\n",
    "print 'How many ballots', len(ranks)\n",
    "\n",
    "length = 0\n",
    "for r in ranks:\n",
    "    length += len(r)\n",
    "\n",
    "print 'Averge length of ranking', length/len(ranks)\n",
    "\n",
    "# borda vs how many pairwise comparisons\n",
    "\n",
    "print 'Dictionary of item to number of times it was ranked'\n",
    "rank_dict = defaultdict(int)\n",
    "for r in ranks:\n",
    "    for i in r:\n",
    "        rank_dict[i] +=1\n",
    "print sorted([(idxs[x],rank_dict[x]) for x in rank_dict.keys()], key=lambda x:x[1])\n",
    "\n",
    "print 'Histogram of number of ranks an item appeared in'\n",
    "freqs = rank_dict.values()\n",
    "plt.hist(freqs, bins='auto')\n",
    "plt.title('histogram of number of ranks an item appeared in')\n",
    "plt.show()\n",
    "\n",
    "print 'Which indices appear in a ranking.'\n",
    "idxs_appearing = []\n",
    "for r in ranks:\n",
    "    idxs_appearing += r\n",
    "print len(set(idxs_appearing))\n",
    "\n",
    "\n",
    "print 'Number of pairwise comparisons an item appeared in'\n",
    "N = build_N(ranks, 40)\n",
    "pairwise_counts = np.sum(N, axis=0)+np.sum(N, axis=1).T\n",
    "print 'pairwise_counts', pairwise_counts\n",
    "\n",
    "def num_k_m(ranks, k, m):\n",
    "    counts = []\n",
    "    ranks = [set(a) for a in ranks]\n",
    "    for a in ranks:\n",
    "        c = 0\n",
    "        for b in ranks:\n",
    "            if a!= b:\n",
    "                if len(a.intersection(b)) >= k:\n",
    "                    c += 1\n",
    "        if c >= m:\n",
    "            counts.append(1)\n",
    "        else:\n",
    "            counts.append(0)\n",
    "    return sum(counts)\n",
    "\n",
    "heatmap = np.zeros((19,20))\n",
    "for k in range(1,20):\n",
    "    for m in range(20):\n",
    "        heatmap[k-1,m] = num_k_m(ranks, k, m)\n",
    "        if k==2 and m==5:\n",
    "            print 'for item = 2 and judge =5', heatmap[k,m]\n",
    "\n",
    "import matplotlib.cm\n",
    "fig, ax = plt.subplots()\n",
    "plt.imshow(heatmap, interpolation='none', origin='lower', cmap=matplotlib.cm.coolwarm)\n",
    "plt.title('Heatmap of the Number of Times That a Judge Ranked \\n at least k Items in Common with at least m Other Judges', fontsize=20)\n",
    "#plt.title('Heatmap of the Number of Times That a Judge Intersected At Least m Other Judges in at Least k Other Items')\n",
    "plt.ylim(1,20)\n",
    "plt.colorbar()\n",
    "plt.xlabel('judges', fontsize=20)\n",
    "plt.ylabel('items', fontsize=20)\n",
    "plt.show()\n",
    "\n",
    "\n",
    "n = 40\n",
    "borda_aggr = borda_reduction([r[:min(3, len(r))] for r in ranks], n)\n",
    "borda_score_aggr = borda_reduction_score(ranks, n)\n",
    "\n",
    "\n",
    "\n",
    "#btl_aggr = btl(ranks, n)\n",
    "#_, kemeny_aggr, x_lpsolve = kemeny_lpsolve(ranks, n)\n",
    "#\n",
    "print 'borda',[idxs[t] for t in borda_aggr]\n",
    "print 'borda using scores', [idxs[t[0]] for t in borda_score_aggr]\n",
    "#print 'btl', [t for t in btl_aggr]\n",
    "#print 'kemeny', [idxs[t] for t in kemeny_aggr]"
   ]
  },
  {
   "cell_type": "markdown",
   "metadata": {},
   "source": [
    "## Finalist Data"
   ]
  },
  {
   "cell_type": "code",
   "execution_count": 6,
   "metadata": {},
   "outputs": [
    {
     "name": "stdout",
     "output_type": "stream",
     "text": [
      "[[0, 1, 4, 3, 2], [2, 4, 3, 0, 1], [2, 0, 4, 3, 1], [0, 3, 4, 1, 2], [3, 1, 0, 4, 2], [3, 4, 0, 1, 2], [2, 4, 0, 3, 1], [3, 4, 0, 1, 2]]\n",
      "[LibLinear][ 0.43552704 -0.77153864 -0.42587173  0.43552704  0.32635629]\n",
      "m,n 70 25\n",
      "Candidate  0\n",
      "borda [37, 10, 40, 19, 15]\n",
      "btl [10, 37, 40, 19, 15]\n",
      "kemeny [40, 37, 10, 15, 19]\n",
      "kemeny brute force [[37, 10, 40, 15, 19], [40, 37, 10, 15, 19], [37, 40, 10, 15, 19], [10, 37, 40, 15, 19], [40, 10, 37, 15, 19], [10, 40, 37, 15, 19]]\n"
     ]
    },
    {
     "name": "stderr",
     "output_type": "stream",
     "text": [
      "lp_solve.py:38: FutureWarning: comparison to `None` will result in an elementwise object comparison in the future.\n",
      "  if f == None:\n"
     ]
    }
   ],
   "source": [
    "idxs_finalists = [10,15,19,37,40]\n",
    "idx_dict_finalists = dict(zip(idxs_finalists, range(len(idxs_finalists))))\n",
    "ranks_finalists = [[10, 15, 40, 37, 19],\n",
    "                   [19, 40, 37, 10, 15],\n",
    "                   [19, 10, 40, 37, 15],\n",
    "                   [10, 37, 40, 15, 19],\n",
    "                   [37, 15, 10, 40, 19], \n",
    "                   [37, 40, 10, 15, 19],\n",
    "                   [19, 40, 10, 37, 15],\n",
    "                   [37, 40, 10, 15, 19]\n",
    "                  ]\n",
    "ranks_finalists = [[idx_dict_finalists[j] for j in r] for r in ranks_finalists]\n",
    "print ranks_finalists\n",
    "\n",
    "n = 5\n",
    "\n",
    "borda_aggr = borda_reduction(ranks_finalists, n)\n",
    "borda_score_aggr = borda_reduction_score(ranks_finalists, n)\n",
    "btl_aggr = btl(ranks_finalists, n)\n",
    "_, kemeny_aggr, x_lpsolve = kemeny_lpsolve(ranks_finalists, n)\n",
    "kemeny_brute = rankaggr_brute(ranks_finalists, n)\n",
    "\n",
    "print 'borda',[idxs_finalists[t] for t in borda_aggr]\n",
    "#print 'borda using scores', [idxs_finalists[t] for t in borda_score_aggr]\n",
    "print 'btl', [idxs_finalists[t] for t in btl_aggr]\n",
    "print 'kemeny', [idxs_finalists[t] for t in kemeny_aggr]\n",
    "print 'kemeny brute force', [[idxs_finalists[t] for t in ranking] for ranking in kemeny_brute]\n"
   ]
  },
  {
   "cell_type": "markdown",
   "metadata": {},
   "source": [
    "### Validation on non-noisy data\n",
    "In this example, we demonstrate the correctness of the above data on non-noisy data. "
   ]
  },
  {
   "cell_type": "code",
   "execution_count": 7,
   "metadata": {},
   "outputs": [
    {
     "data": {
      "text/plain": [
       "'\\ndef sample(rank, k, t):\\n    \"\"\"\\n    Generates a sample of partial rankings sampled from this ranking.\\n    rank: full ranking to sample from\\n    k: items per partial ranking\\n    t: number of partial rankings\\n    \\n    ranks: list of output rankings, a ranking [a,b,c, ..] implies that a>b>c>...\\n    \"\"\"\\n    n = len(rank)\\n    ranks = []\\n    for i in range(t):\\n        ranks.append([rank[x] for x in sorted(random.sample(range(n),k))])\\n    return ranks\\n   \\n# generate true ranking on 50 items, 5 ranks per, 250 samples\\nn = 50; k = 5; num_samples = 300\\ntau = range(n); random.shuffle(tau)\\n\\n# generate a large sample of partial rankings of size k from tau\\ni = 50\\nscores = []\\nwhile i < num_samples:\\n    print \\'num samples:\\', i\\n    ranks = sample(tau, k, i)\\n    _, kemeny_aggr, x_lpsolve = kemeny_lpsolve(ranks, n)\\n    borda_aggr = borda_reduction(ranks, n)\\n    btl_aggr = btl(ranks, n)\\n    scores.append([kendalltau_dist(tau, kemeny_aggr), \\n                   kendalltau_dist(tau, borda_aggr), \\n                   kendalltau_dist(tau, btl_aggr)])\\n    i = min(i+50, num_samples)\\n'"
      ]
     },
     "execution_count": 7,
     "metadata": {},
     "output_type": "execute_result"
    }
   ],
   "source": [
    "'''\n",
    "def sample(rank, k, t):\n",
    "    \"\"\"\n",
    "    Generates a sample of partial rankings sampled from this ranking.\n",
    "    rank: full ranking to sample from\n",
    "    k: items per partial ranking\n",
    "    t: number of partial rankings\n",
    "    \n",
    "    ranks: list of output rankings, a ranking [a,b,c, ..] implies that a>b>c>...\n",
    "    \"\"\"\n",
    "    n = len(rank)\n",
    "    ranks = []\n",
    "    for i in range(t):\n",
    "        ranks.append([rank[x] for x in sorted(random.sample(range(n),k))])\n",
    "    return ranks\n",
    "   \n",
    "# generate true ranking on 50 items, 5 ranks per, 250 samples\n",
    "n = 50; k = 5; num_samples = 300\n",
    "tau = range(n); random.shuffle(tau)\n",
    "\n",
    "# generate a large sample of partial rankings of size k from tau\n",
    "i = 50\n",
    "scores = []\n",
    "while i < num_samples:\n",
    "    print 'num samples:', i\n",
    "    ranks = sample(tau, k, i)\n",
    "    _, kemeny_aggr, x_lpsolve = kemeny_lpsolve(ranks, n)\n",
    "    borda_aggr = borda_reduction(ranks, n)\n",
    "    btl_aggr = btl(ranks, n)\n",
    "    scores.append([kendalltau_dist(tau, kemeny_aggr), \n",
    "                   kendalltau_dist(tau, borda_aggr), \n",
    "                   kendalltau_dist(tau, btl_aggr)])\n",
    "    i = min(i+50, num_samples)\n",
    "'''"
   ]
  },
  {
   "cell_type": "code",
   "execution_count": 8,
   "metadata": {},
   "outputs": [
    {
     "data": {
      "text/plain": [
       "\"\\nscores = np.array(scores)\\nplt.plot(np.arange(50, num_samples, 50), scores[:,0], label='Kemeny')\\nplt.plot(np.arange(50, num_samples, 50), scores[:,1], label='Borda')\\nplt.plot(np.arange(50, num_samples, 50), scores[:,2], label='BTL')\\nplt.xlabel('Number of Samples')\\nplt.ylabel('Kendall Tau Distance from learned to truth')\\nplt.title('Comparison of Rank Aggregation Methods')\\nplt.legend()\\nplt.show()\\n\""
      ]
     },
     "execution_count": 8,
     "metadata": {},
     "output_type": "execute_result"
    }
   ],
   "source": [
    "'''\n",
    "scores = np.array(scores)\n",
    "plt.plot(np.arange(50, num_samples, 50), scores[:,0], label='Kemeny')\n",
    "plt.plot(np.arange(50, num_samples, 50), scores[:,1], label='Borda')\n",
    "plt.plot(np.arange(50, num_samples, 50), scores[:,2], label='BTL')\n",
    "plt.xlabel('Number of Samples')\n",
    "plt.ylabel('Kendall Tau Distance from learned to truth')\n",
    "plt.title('Comparison of Rank Aggregation Methods')\n",
    "plt.legend()\n",
    "plt.show()\n",
    "'''\n"
   ]
  },
  {
   "cell_type": "code",
   "execution_count": null,
   "metadata": {
    "collapsed": true
   },
   "outputs": [],
   "source": [
    "\n",
    "\n"
   ]
  }
 ],
 "metadata": {
  "kernelspec": {
   "display_name": "Python 2",
   "language": "python",
   "name": "python2"
  },
  "language_info": {
   "codemirror_mode": {
    "name": "ipython",
    "version": 2
   },
   "file_extension": ".py",
   "mimetype": "text/x-python",
   "name": "python",
   "nbconvert_exporter": "python",
   "pygments_lexer": "ipython2",
   "version": "2.7.13"
  }
 },
 "nbformat": 4,
 "nbformat_minor": 2
}
