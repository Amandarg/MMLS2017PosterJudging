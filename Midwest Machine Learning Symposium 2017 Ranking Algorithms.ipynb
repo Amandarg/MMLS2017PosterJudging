{
 "cells": [
  {
   "cell_type": "markdown",
   "metadata": {},
   "source": [
    "## Ranking algorithms\n",
    "### Authors: Amanda Bower, Lalit Jain\n",
    "In this notebook, we develop three rank aggregation algorithms for the MMLS poster competition. We will use the Borda, Bradley-Terry-Luce, and Kemeny aggregation methods. For the Kemeny aggregation, we provide brute force code, an implementation using ``lpsolve`` and an implementation using ``cvxopt/.glpk``.\n",
    "\n",
    "For more details, see LINK TO SHARELATEX PDF.\n",
    "\n",
    "Throughout our code, a partial ranking denotes a list of the form ``[a,b,c,...]`` which indicates that item `a` is better than item `b`, item `b` is better than item `c` etc. "
   ]
  },
  {
   "cell_type": "code",
   "execution_count": 1,
   "metadata": {
    "collapsed": true
   },
   "outputs": [],
   "source": [
    "import random\n",
    "from itertools import combinations, permutations\n",
    "import numpy as np\n",
    "import matplotlib.pyplot as plt\n",
    "import seaborn as sns\n",
    "\n",
    "# UTILITY FUNCTIONS\n",
    "\n",
    "def build_N(rankings, n):\n",
    "    '''\n",
    "    Builds a nxn matrix from a set of rankings where the i-jth entry is the number of times i beats j\n",
    "    rankings: a list of (partial) rankings\n",
    "    n: number of items\n",
    "    \n",
    "    returns:\n",
    "    N: nxn matrix whose (i,j)th entry is # times i beat j\n",
    "    '''\n",
    "    N = np.zeros((n,n))\n",
    "    for r in rankings:\n",
    "        for i in range(len(r)):\n",
    "            for j in range(i+1, len(r)):\n",
    "                N[r[i],r[j]] += 1\n",
    "    return N\n",
    "\n",
    "def kendalltau_dist(rank, partial):\n",
    "    '''\n",
    "    Computes the Kendall-Tau distance between a FULL ranking (rank) and a PARTIAL ranking (partial). \n",
    "    The Kendall-Tau distance in this case is the number of pairs (i,j) where rank ranks i and j in a different\n",
    "    order from partial. If partial is a full ranking, this is the normal Kendall-Tau distance.\n",
    "    '''\n",
    "    d = 0\n",
    "    rank_inv = dict(zip(rank, range(len(rank)) ))\n",
    "    for i in range(len(partial)):\n",
    "        for j in range(i+1, len(partial)):\n",
    "            if rank_inv[partial[i]] > rank_inv[partial[j]]:\n",
    "                d+=1\n",
    "    return d"
   ]
  },
  {
   "cell_type": "markdown",
   "metadata": {},
   "source": [
    "### Kemeny Aggregation Code\n",
    "Kemeny aggregation finds a full ranking that minimizes the average distance to a set of partial rankings. In general\n",
    "a difficult combinatorial optimization problem, it can be reformulated as an integer linear program in an easy way.\n",
    "\n",
    "Our code is loosely based on the method here [http://vene.ro/blog/kemeny-young-optimal-rank-aggregation-in-python.html#note3](vene's blog)."
   ]
  },
  {
   "cell_type": "code",
   "execution_count": 2,
   "metadata": {
    "collapsed": true
   },
   "outputs": [],
   "source": [
    "def build_objective(N, extend=False):\n",
    "    '''\n",
    "    Returns the objective for the linear program.\n",
    "    '''\n",
    "    return N.ravel()\n",
    "\n",
    "def build_constraints(n, solver='lpsolve'):\n",
    "    '''\n",
    "    In the lp formulation of Kemeny rank aggregation a nxn 0-1 matrix x is used to encode the permutation. \n",
    "    x satisfies: x[i,j] + x[j,i] = 1, and x[i,j]+x[j,k]+x[k,i] >= 1\n",
    "    \n",
    "    This method builds these constraints in the appropriate form for lpsolve and glpk.\n",
    "    '''\n",
    "    idx = lambda i, j: n * i + j\n",
    "\n",
    "    #n choose 2 rows by n^2. rows are constraints and columns correspond to variables\n",
    "    pairwise_constraints = np.zeros(((n * (n - 1)) / 2, n ** 2))\n",
    "    for row, (i, j) in zip(pairwise_constraints, combinations(range(n), 2)):\n",
    "        row[[idx(i, j), idx(j, i)]] = 1\n",
    "    # and for every cycle of length 3\n",
    "    triangle_constraints = np.zeros(((n * (n - 1) *(n - 2)), n ** 2))\n",
    "    for row, (i, j, k) in zip(triangle_constraints, permutations(range(n), 3)):\n",
    "        row[[idx(i, j), idx(j, k), idx(k, i)]] = 1\n",
    "\n",
    "    if solver=='lpsolve':\n",
    "        constraints = np.vstack([pairwise_constraints, triangle_constraints])\n",
    "        constraint_rhs = np.hstack([np.ones(len(pairwise_constraints)),\n",
    "                                    np.ones(len(triangle_constraints))])\n",
    "        constraint_signs = np.hstack([np.zeros(len(pairwise_constraints)),\n",
    "                                      np.ones(len(triangle_constraints))])   # ==\n",
    "        return constraints, constraint_rhs, constraint_signs\n",
    "    elif solver=='glpk':\n",
    "        G = -1*triangle_constraints\n",
    "        h = -1*np.ones(len(G))\n",
    "        A = pairwise_constraints\n",
    "        b = np.ones(len(A))\n",
    "        return G,h,A,b\n",
    "    else:\n",
    "        raise\n",
    "\n",
    "def kemeny_lpsolve(rankings, n):\n",
    "    '''\n",
    "    Kemeny rank aggregation using lpsolve55\n",
    "    '''\n",
    "    from lp_solve import lp_solve\n",
    "    N = build_N(rankings, n)\n",
    "    c = -1*build_objective(N)\n",
    "    constraints, constraint_rhs, constraint_signs = build_constraints(n, 'lpsolve')\n",
    "    obj, x, duals = lp_solve(c, constraints, constraint_rhs, constraint_signs.T)\n",
    "                             #xint=range(1, 1 + n_candidates ** 2))\n",
    "    x = np.array(x).reshape((n, n))\n",
    "    aggr_rank = x.sum(axis=0)\n",
    "    return obj, np.argsort(aggr_rank)[::-1], x\n",
    "\n",
    "def kemeny_glpksolve(rankings,n):\n",
    "    '''\n",
    "    Kemeny rank aggregation using lpsolve55\n",
    "    '''\n",
    "    from cvxopt import matrix\n",
    "    from cvxopt.glpk import ilp\n",
    "    N = build_N(rankings, n)\n",
    "    c = build_objective(N)\n",
    "    G,h,A,b = build_constraints(n, 'glpk')\n",
    "    status, x = ilp(c, matrix(G), matrix(h), matrix(A), matrix(b),\n",
    "                    set(range(n**2)), set(range(n**2)))\n",
    "    x = np.array(x).reshape((n, n))\n",
    "    aggr_rank = x.sum(axis=0)\n",
    "    return None, np.argsort(aggr_rank)[::-1], x\n",
    "\n",
    "def rankaggr_brute(ranks, n):\n",
    "    '''\n",
    "    Kemeny rank aggregation using brute force methods. \n",
    "    DO NOT USE FOR n>9!!!\n",
    "    '''\n",
    "    min_dist = np.inf\n",
    "    best_rank = None\n",
    "    count =0\n",
    "    for candidate_rank in permutations(range(n)):\n",
    "        if count % 100000 == 0:\n",
    "            print 'Candidate ', count\n",
    "        count +=1\n",
    "        dist = np.sum(kendalltau_dist(candidate_rank, rank) for rank in ranks)\n",
    "        if dist < min_dist:\n",
    "            min_dist = dist\n",
    "            best_rank = candidate_rank\n",
    "    return min_dist, best_rank\n",
    "\n"
   ]
  },
  {
   "cell_type": "markdown",
   "metadata": {},
   "source": [
    "### Borda"
   ]
  },
  {
   "cell_type": "code",
   "execution_count": 3,
   "metadata": {
    "collapsed": true
   },
   "outputs": [],
   "source": [
    "def borda_reduction(rankings, n):\n",
    "    '''\n",
    "    Basic Borda Reduction method for computing the winner. \n",
    "    Computes the pairwise matrix N, and then normalizes the entries by the number of times i was compared to j.\n",
    "    '''\n",
    "    N = build_N(rankings, n)\n",
    "    M = np.zeros((n,n))\n",
    "    for i in range(n):\n",
    "        for j in range(n):\n",
    "            if i!=j:\n",
    "                total = N[i,j]+N[j,i]\n",
    "                if total == 0:\n",
    "                    M[i,j] = 0\n",
    "                else:\n",
    "                    M[i,j] = N[i,j]*1.0 / total\n",
    "    return np.argsort(np.sum(M, axis=1))[::-1]"
   ]
  },
  {
   "cell_type": "markdown",
   "metadata": {},
   "source": [
    "### Bradley-Terry-Luce"
   ]
  },
  {
   "cell_type": "code",
   "execution_count": 4,
   "metadata": {
    "collapsed": true
   },
   "outputs": [],
   "source": [
    "def btl(rankings, n):\n",
    "    \"\"\"\n",
    "    Uses LogisticRegression to compute the btl scores based on the rankings. \n",
    "    \"\"\"\n",
    "    from sklearn.linear_model import LogisticRegression\n",
    "    X,y = get_X_y(rankings, n)\n",
    "    model = LogisticRegression(fit_intercept=False, verbose=True, C=1000000.)\n",
    "    # parameter C controls regularization. High C => less regularization\n",
    "    model = model.fit(X,y)\n",
    "    return np.argsort(model.coef_.flatten())[::-1]\n",
    "\n",
    "def get_X_y(rankings,n):\n",
    "    '''\n",
    "    Build the X and y matrices for the Logistic regression classifier.\n",
    "    '''\n",
    "    num_comparisons = 0\n",
    "    for r in rankings:\n",
    "        num_comparisons += len(r)*(len(r)-1)/2\n",
    "    num_comparisons = num_comparisons\n",
    "    X = np.zeros((num_comparisons,n))\n",
    "    y = np.zeros((num_comparisons))\n",
    "    comparison =0\n",
    "    for r in rankings:\n",
    "        for i in range(len(r)-1):\n",
    "            for j in range(i+1, len(r)):\n",
    "                lower  = min(r[i], r[j])\n",
    "                higher = max(r[i], r[j])\n",
    "                X[comparison, lower]=1\n",
    "                X[comparison, higher]=-1\n",
    "                if(lower == r[i]):\n",
    "                    y[comparison] = 1\n",
    "                else:\n",
    "                    y[comparison] = -1\n",
    "                comparison +=1\n",
    "\n",
    "    return X, y\n"
   ]
  },
  {
   "cell_type": "markdown",
   "metadata": {},
   "source": [
    "### Validation on non-noisy data\n",
    "In this example, we demonstrate the correctness of the above data on non-noisy data. "
   ]
  },
  {
   "cell_type": "code",
   "execution_count": 5,
   "metadata": {},
   "outputs": [
    {
     "name": "stdout",
     "output_type": "stream",
     "text": [
      "num samples: 50\n"
     ]
    },
    {
     "name": "stderr",
     "output_type": "stream",
     "text": [
      "lp_solve.py:38: FutureWarning: comparison to `None` will result in an elementwise object comparison in the future.\n",
      "  if f == None:\n"
     ]
    },
    {
     "name": "stdout",
     "output_type": "stream",
     "text": [
      "m,n 118825 2500\n",
      "[LibLinear]num samples: 100\n",
      "m,n 118825 2500\n",
      "[LibLinear]num samples: 150\n",
      "m,n 118825 2500\n",
      "[LibLinear]num samples: 200\n",
      "m,n 118825 2500\n",
      "[LibLinear]num samples: 250\n",
      "m,n 118825 2500\n",
      "[LibLinear]"
     ]
    }
   ],
   "source": [
    "def sample(rank, k, t):\n",
    "    '''\n",
    "    Generates a sample of partial rankings sampled from this ranking.\n",
    "    rank: full ranking to sample from\n",
    "    k: items per partial ranking\n",
    "    t: number of partial rankings\n",
    "    \n",
    "    ranks: list of output rankings, a ranking [a,b,c, ..] implies that a>b>c>...\n",
    "    '''\n",
    "    n = len(rank)\n",
    "    ranks = []\n",
    "    for i in range(t):\n",
    "        ranks.append([rank[x] for x in sorted(random.sample(range(n),k))])\n",
    "    return ranks\n",
    "   \n",
    "# generate true ranking on 50 items, 5 ranks per, 250 samples\n",
    "n = 50; k = 5; num_samples = 300\n",
    "tau = range(n); random.shuffle(tau)\n",
    "\n",
    "# generate a large sample of partial rankings of size k from tau\n",
    "i = 50\n",
    "scores = []\n",
    "while i < num_samples:\n",
    "    print 'num samples:', i\n",
    "    ranks = sample(tau, k, i)\n",
    "    _, kemeny_aggr, x_lpsolve = kemeny_lpsolve(ranks, n)\n",
    "    borda_aggr = borda_reduction(ranks, n)\n",
    "    btl_aggr = btl(ranks, n)\n",
    "    scores.append([kendalltau_dist(tau, kemeny_aggr), \n",
    "                   kendalltau_dist(tau, borda_aggr), \n",
    "                   kendalltau_dist(tau, btl_aggr)])\n",
    "    i = min(i+50, num_samples)"
   ]
  },
  {
   "cell_type": "code",
   "execution_count": 6,
   "metadata": {},
   "outputs": [
    {
     "data": {
      "image/png": "[encoded data removed]",
      "text/plain": [
       "<matplotlib.figure.Figure at 0x110472910>"
      ]
     },
     "metadata": {},
     "output_type": "display_data"
    }
   ],
   "source": [
    "scores = np.array(scores)\n",
    "plt.plot(np.arange(50, num_samples, 50), scores[:,0], label='Kemeny')\n",
    "plt.plot(np.arange(50, num_samples, 50), scores[:,1], label='Borda')\n",
    "plt.plot(np.arange(50, num_samples, 50), scores[:,2], label='BTL')\n",
    "plt.xlabel('Number of Samples')\n",
    "plt.ylabel('Kendall Tau Distance from learned to truth')\n",
    "plt.title('Comparison of Rank Aggregation Methods')\n",
    "plt.legend()\n",
    "plt.show()\n",
    "\n"
   ]
  },
  {
   "cell_type": "code",
   "execution_count": null,
   "metadata": {
    "collapsed": true
   },
   "outputs": [],
   "source": []
  }
 ],
 "metadata": {
  "kernelspec": {
   "display_name": "Python 2",
   "language": "python",
   "name": "python2"
  },
  "language_info": {
   "codemirror_mode": {
    "name": "ipython",
    "version": 2
   },
   "file_extension": ".py",
   "mimetype": "text/x-python",
   "name": "python",
   "nbconvert_exporter": "python",
   "pygments_lexer": "ipython2",
   "version": "2.7.13"
  }
 },
 "nbformat": 4,
 "nbformat_minor": 2
}
