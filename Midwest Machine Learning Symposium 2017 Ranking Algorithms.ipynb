{
 "cells": [
  {
   "cell_type": "markdown",
   "metadata": {},
   "source": [
    "## Ranking Algorithms for Midwest Machine Learning Symposim 2017 Poster Contest\n",
    "### Authors: Amanda Bower, Lalit Jain, Laura Balzano\n",
    "In this notebook (using Python 2), we implement three rank aggregation algorithms for the MMLS poster competition. We will use the Borda, Bradley-Terry-Luce, and Kemeny aggregation methods. For more details about the rank aggregation algorithms and a summary of the results of the poster contest, see [Report on Rank Aggregation Methods for MMLS 2017.](https://github.com/Amandarg/MMLS2017PosterJudging/blob/master/Rank%20Aggregation%20for%20MMLS.pdf)\n",
    "\n",
    "For the Kemeny aggregation, we provide brute force code, an implementation using ``lpsolve``, and an implementation using ``cvxopt/.glpk``. \n",
    "\n",
    "For installation instructions for ``lpsolve`` for Python see [Using lpsolve from Python](http://lpsolve.sourceforge.net/5.5/Python.htm) and to download the ``lpsolve`` files referenced in the instructions, [click here.](https://sourceforge.net/projects/lpsolve/files/lpsolve/5.5.0.15/)\n",
    "\n",
    "If you have trouble installing ``lpsolve``, our code can also use the integer linear program solver in ``cvxopt/.glpk``. For installation instructions, see [Linear Programming in Python with CVXOPT.](https://scaron.info/blog/linear-programming-in-python-with-cvxopt.html) Note that both ``CVXOPT`` and ``GLPK`` must be installed.\n",
    "\n",
    "Throughout our code, a partial ranking denotes a list of the form ``[a,b,c,...]`` which indicates that item `a` is better than item `b`, item `b` is better than item `c` etc. "
   ]
  },
  {
   "cell_type": "code",
   "execution_count": 1,
   "metadata": {
    "collapsed": true
   },
   "outputs": [],
   "source": [
    "import random\n",
    "from collections import defaultdict\n",
    "from itertools import combinations, permutations\n",
    "import numpy as np\n",
    "import matplotlib.pyplot as plt\n",
    "import seaborn as sns\n",
    "\n",
    "# UTILITY FUNCTIONS\n",
    "\n",
    "def build_N(rankings, n):\n",
    "    '''\n",
    "    Builds a nxn matrix from a set of rankings where the i-jth entry is the number of times i beats j\n",
    "    rankings: a list of (partial) rankings\n",
    "    n: number of items\n",
    "    \n",
    "    returns:\n",
    "    N: nxn matrix whose (i,j)th entry is # times i beat j\n",
    "    '''\n",
    "    N = np.zeros((n,n))\n",
    "    for r in rankings:\n",
    "        for i in range(len(r)):\n",
    "            for j in range(i+1, len(r)):\n",
    "                N[r[i],r[j]] += 1\n",
    "    return N\n",
    "\n",
    "def kendalltau_dist(rank, partial):\n",
    "    '''\n",
    "    Computes the Kendall tau distance between a FULL ranking (rank) and a PARTIAL ranking (partial). \n",
    "    The Kendall-Tau distance in this case is the number of pairs (i,j) where rank ranks i and j in a different\n",
    "    order from partial. If partial is a full ranking, this is the normal Kendall tau distance.\n",
    "    '''\n",
    "    d = 0\n",
    "    rank_inv = dict(zip(rank, range(len(rank)) ))\n",
    "    for i in range(len(partial)):\n",
    "        for j in range(i+1, len(partial)):\n",
    "            if rank_inv[partial[i]] > rank_inv[partial[j]]:\n",
    "                d+=1\n",
    "    return d"
   ]
  },
  {
   "cell_type": "markdown",
   "metadata": {},
   "source": [
    "### Kemeny Aggregation Code\n",
    "Kemeny aggregation finds a full ranking that minimizes the average distance to a set of partial rankings. In general\n",
    "a difficult combinatorial optimization problem, it can be reformulated as an integer linear program in an easy way.\n",
    "\n",
    "Our code is loosely based on the method here [http://vene.ro/blog/kemeny-young-optimal-rank-aggregation-in-python.html#note3](vene's blog)."
   ]
  },
  {
   "cell_type": "code",
   "execution_count": 2,
   "metadata": {
    "collapsed": true
   },
   "outputs": [],
   "source": [
    "def build_objective(N, extend=False):\n",
    "    '''\n",
    "    Returns the objective for the linear program.\n",
    "    '''\n",
    "    return N.ravel()\n",
    "\n",
    "def build_constraints(n, solver='lpsolve'):\n",
    "    '''\n",
    "    In the lp formulation of Kemeny rank aggregation a nxn 0-1 matrix x is used to encode the permutation. \n",
    "    x satisfies: x[i,j] + x[j,i] = 1, and x[i,j]+x[j,k]+x[k,i] >= 1\n",
    "    \n",
    "    This method builds these constraints in the appropriate form for lpsolve and glpk.\n",
    "    '''\n",
    "    idx = lambda i, j: n * i + j\n",
    "\n",
    "    #n choose 2 rows by n^2. rows are constraints and columns correspond to variables\n",
    "    pairwise_constraints = np.zeros(((n * (n - 1)) / 2, n ** 2))\n",
    "    for row, (i, j) in zip(pairwise_constraints, combinations(range(n), 2)):\n",
    "        row[[idx(i, j), idx(j, i)]] = 1\n",
    "    # and for every cycle of length 3\n",
    "    triangle_constraints = np.zeros(((n * (n - 1) *(n - 2)), n ** 2))\n",
    "    for row, (i, j, k) in zip(triangle_constraints, permutations(range(n), 3)):\n",
    "        row[[idx(i, j), idx(j, k), idx(k, i)]] = 1\n",
    "\n",
    "    if solver=='lpsolve':\n",
    "        constraints = np.vstack([pairwise_constraints, triangle_constraints])\n",
    "        constraint_rhs = np.hstack([np.ones(len(pairwise_constraints)),\n",
    "                                    np.ones(len(triangle_constraints))])\n",
    "        constraint_signs = np.hstack([np.zeros(len(pairwise_constraints)),\n",
    "                                      np.ones(len(triangle_constraints))])   # ==\n",
    "        return constraints, constraint_rhs, constraint_signs\n",
    "    elif solver=='glpk':\n",
    "        G = -1*triangle_constraints\n",
    "        h = -1*np.ones(len(G))\n",
    "        A = pairwise_constraints\n",
    "        b = np.ones(len(A))\n",
    "        return G,h,A,b\n",
    "    else:\n",
    "        raise\n",
    "\n",
    "def kemeny_lpsolve(rankings, n):\n",
    "    '''\n",
    "    Kemeny rank aggregation using lpsolve55\n",
    "    '''\n",
    "    from lp_solve import lp_solve\n",
    "    N = build_N(rankings, n)\n",
    "    c = -1*build_objective(N)\n",
    "    constraints, constraint_rhs, constraint_signs = build_constraints(n, 'lpsolve')\n",
    "    obj, x, duals = lp_solve(c, constraints, constraint_rhs, constraint_signs.T)\n",
    "                             #xint=range(1, 1 + n_candidates ** 2))\n",
    "    x = np.array(x).reshape((n, n))\n",
    "    aggr_rank = x.sum(axis=0)\n",
    "    return obj, np.argsort(aggr_rank)[::-1], x\n",
    "\n",
    "def kemeny_glpksolve(rankings,n):\n",
    "    '''\n",
    "    Kemeny rank aggregation using glpk\n",
    "    '''\n",
    "    from cvxopt import matrix\n",
    "    from cvxopt.glpk import ilp\n",
    "    N = build_N(rankings, n)\n",
    "    c = build_objective(N)\n",
    "    G,h,A,b = build_constraints(n, 'glpk')\n",
    "    status, x = ilp(c, matrix(G), matrix(h), matrix(A), matrix(b),\n",
    "                    set(range(n**2)), set(range(n**2)))\n",
    "    x = np.array(x).reshape((n, n))\n",
    "    aggr_rank = x.sum(axis=0)\n",
    "    return None, np.argsort(aggr_rank)[::-1], x\n",
    "\n",
    "def rankaggr_brute(ranks, n):\n",
    "    '''\n",
    "    Kemeny rank aggregation using brute force methods. \n",
    "    DO NOT USE FOR n>9!!!\n",
    "    '''\n",
    "    min_dist = np.inf\n",
    "    best_rank = defaultdict(int)\n",
    "    count =0\n",
    "    for candidate_rank in permutations(range(n)):\n",
    "        count +=1\n",
    "        dist = np.sum(kendalltau_dist(candidate_rank, rank) for rank in ranks)\n",
    "        if dist <= min_dist:\n",
    "            min_dist = dist\n",
    "            best_rank[candidate_rank]=dist\n",
    "    \n",
    "    min_dist = min(best_rank.values())\n",
    "    return [key for key, value in best_rank.iteritems() if value == min_dist]\n",
    "\n"
   ]
  },
  {
   "cell_type": "markdown",
   "metadata": {},
   "source": [
    "### Borda Count\n",
    "Borda count methods assign points to items depending on what rank they have in each ranking and ranks the items by their final points."
   ]
  },
  {
   "cell_type": "code",
   "execution_count": 3,
   "metadata": {
    "collapsed": true
   },
   "outputs": [],
   "source": [
    "def borda_reduction(rankings, n):\n",
    "    '''\n",
    "    Basic Borda Reduction method for computing the winner. \n",
    "    Computes the pairwise matrix N, and then normalizes the entries by the number of times i was compared to j.\n",
    "    '''\n",
    "    N = build_N(rankings, n)\n",
    "    M = np.zeros((n,n))\n",
    "    for i in range(n):\n",
    "        for j in range(n):\n",
    "            if i!=j:\n",
    "                total = N[i,j]+N[j,i]\n",
    "                if total == 0:\n",
    "                    M[i,j] = 0\n",
    "                else:\n",
    "                    M[i,j] = N[i,j]*1.0 / total\n",
    "    return np.argsort(np.sum(M, axis=1))[::-1]\n",
    "\n",
    "def borda_reduction_score(rankings, n):\n",
    "    '''\n",
    "    Basic Borda Reduction method for computing the winner. \n",
    "    Assigns n-(i-1) points to item j whenever item j is ranked i in some partial ranking.\n",
    "    '''\n",
    "    d = defaultdict(int)\n",
    "    for r in rankings:\n",
    "        for i in range(len(r)):\n",
    "            d[r[i]] += n-i\n",
    "    return sorted([(x, d[x]) for x in d.keys()], key=lambda x:x[1])[::-1]"
   ]
  },
  {
   "cell_type": "markdown",
   "metadata": {},
   "source": [
    "### Bradley-Terry-Luce\n",
    "The Bradley-Terry-Luce (BTL) model is a parametric model on the probability that item `i` beats item `j` and ranks the items based on the probability that an item beats the others. The items are then ranked by the probability that an item beats all the others."
   ]
  },
  {
   "cell_type": "code",
   "execution_count": 4,
   "metadata": {
    "collapsed": true
   },
   "outputs": [],
   "source": [
    "def btl(rankings, n):\n",
    "    \"\"\"\n",
    "    Uses LogisticRegression to compute the BTL scores based on the rankings. \n",
    "    \"\"\"\n",
    "    from sklearn.linear_model import LogisticRegression\n",
    "    X,y = get_X_y(rankings, n)\n",
    "    model = LogisticRegression(fit_intercept=False, verbose=True, C=1000000.)\n",
    "    # parameter C controls regularization. High C => less regularization\n",
    "    model = model.fit(X,y)\n",
    "    return np.argsort(model.coef_.flatten())[::-1]\n",
    "\n",
    "def get_X_y(rankings,n):\n",
    "    '''\n",
    "    Build the X and y matrices for the Logistic regression classifier.\n",
    "    '''\n",
    "    num_comparisons = 0\n",
    "    for r in rankings:\n",
    "        num_comparisons += len(r)*(len(r)-1)/2\n",
    "    num_comparisons = num_comparisons\n",
    "    X = np.zeros((num_comparisons,n))\n",
    "    y = np.zeros((num_comparisons))\n",
    "    comparison =0\n",
    "    for r in rankings:\n",
    "        for i in range(len(r)-1):\n",
    "            for j in range(i+1, len(r)):\n",
    "                lower  = min(r[i], r[j])\n",
    "                higher = max(r[i], r[j])\n",
    "                X[comparison, lower]=1\n",
    "                X[comparison, higher]=-1\n",
    "                if(lower == r[i]):\n",
    "                    y[comparison] = 1\n",
    "                else:\n",
    "                    y[comparison] = -1\n",
    "                comparison +=1\n",
    "    return X, y"
   ]
  },
  {
   "cell_type": "markdown",
   "metadata": {},
   "source": [
    "# Day 1 Data\n",
    "Below is the data from the first day of the MMLS poster competition where poster numbers have been randomized along with the code to run Borda as well as basic statistics about the data."
   ]
  },
  {
   "cell_type": "code",
   "execution_count": 5,
   "metadata": {
    "scrolled": false
   },
   "outputs": [
    {
     "name": "stdout",
     "output_type": "stream",
     "text": [
      "How Many Ballots Received: 39\n",
      "Average Ballot Length: 5\n"
     ]
    },
    {
     "data": {
      "image/png": "[encoded data removed]",
      "text/plain": [
       "<matplotlib.figure.Figure at 0x110a82190>"
      ]
     },
     "metadata": {},
     "output_type": "display_data"
    },
    {
     "data": {
      "image/png": "[encoded data removed]",
      "text/plain": [
       "<matplotlib.figure.Figure at 0x106196dd0>"
      ]
     },
     "metadata": {},
     "output_type": "display_data"
    },
    {
     "name": "stdout",
     "output_type": "stream",
     "text": [
      "Borda Rank Aggregation: [1, 14, 16, 27, 25, 7, 39, 28, 8, 4, 19, 5, 38, 0, 20, 29, 34, 26, 9, 21, 13, 12, 10, 17, 3, 31, 35, 22, 2, 24, 36, 37, 33, 23, 11, 30, 6, 18, 15]\n"
     ]
    }
   ],
   "source": [
    "#randomized poster numbers in {0,1,2, ..., 39}\n",
    "ranks = [[24, 36],\n",
    "         [10, 14, 11, 7],\n",
    "         [25, 39],\n",
    "         [14, 34, 19, 7],\n",
    "         [14, 19, 10, 29, 7],\n",
    "         [9, 6, 8],\n",
    "         [33, 10, 16],\n",
    "         [7, 25, 15, 1, 16],\n",
    "         [0, 22, 35],\n",
    "         [20, 8],\n",
    "         [0, 1, 26, 31, 27, 28],\n",
    "         [0, 26, 18, 7, 28],\n",
    "         [21, 13, 35, 11],\n",
    "         [25, 39, 3],\n",
    "         [30, 27],\n",
    "         [8, 38, 9, 27, 12, 22, 23, 1, 21, 5],\n",
    "         [31, 29],\n",
    "         [4, 5, 21, 14, 34, 22, 17, 37, 31, 12, 2, 11, 13, 0],\n",
    "         [16, 27, 24, 19],\n",
    "         [16, 36, 21, 5],\n",
    "         [29, 20, 34, 3],\n",
    "         [29, 10, 16],\n",
    "         [31, 38, 14],\n",
    "         [14, 16, 22, 19, 2, 4, 28, 39],\n",
    "         [16, 20, 28, 27, 39, 13, 1],\n",
    "         [7, 0, 27, 17, 26, 13, 14],\n",
    "         [24, 2, 20, 8, 33],\n",
    "         [39, 14, 28],\n",
    "         [25, 1, 27],\n",
    "         [1, 4, 34, 25, 16, 36],\n",
    "         [5, 4, 14, 1, 20, 29, 19, 38, 16, 0],\n",
    "         [3, 25, 39],\n",
    "         [1, 8, 35, 38, 27, 23, 2, 33, 12, 21, 9],\n",
    "         [27, 8, 38, 12, 23, 1, 9, 35],\n",
    "         [17, 37, 4, 1, 5, 3, 34, 16, 26],\n",
    "         [14, 25],\n",
    "         [1, 28, 9, 14, 19, 7],\n",
    "         [13, 1, 28, 12, 30],\n",
    "         [17, 4, 5, 37, 1, 26, 39, 38]]\n",
    "\n",
    "n = 40\n",
    "\n",
    "print 'How Many Ballots Received:', len(ranks)\n",
    "\n",
    "length = 0\n",
    "for r in ranks:\n",
    "    length += len(r)\n",
    "\n",
    "print 'Average Ballot Length:', length/len(ranks)\n",
    "\n",
    "#array of item to number of times it was ranked\n",
    "rank_array = np.zeros(n)\n",
    "for r in ranks:\n",
    "    for i in r:\n",
    "        rank_array[i] +=1\n",
    "\n",
    "plt.hist(rank_array, bins='auto')\n",
    "plt.title('Histogram of Number of Ballots a Poster Appeared In', fontsize=18)\n",
    "plt.xlabel('number of ballots', fontsize=18)\n",
    "plt.ylabel('number of posters', fontsize=18)\n",
    "plt.show()\n",
    "\n",
    "#dictionary of items to number of times it was ranked\n",
    "rank_dict = defaultdict(int)\n",
    "for r in ranks:\n",
    "    for i in r:\n",
    "        rank_dict[i] +=1\n",
    "\n",
    "#computes number of ballots that ranked at least k other items in common with at least m other ballots\n",
    "def num_k_m(ranks, k, m):\n",
    "    counts = []\n",
    "    ranks = [set(a) for a in ranks]\n",
    "    for a in ranks:\n",
    "        c = 0\n",
    "        for b in ranks:\n",
    "            if a!= b:\n",
    "                if len(a.intersection(b)) >= k:\n",
    "                    c += 1\n",
    "        if c >= m:\n",
    "            counts.append(1)\n",
    "        else:\n",
    "            counts.append(0)\n",
    "    return sum(counts)\n",
    "\n",
    "heatmap = np.zeros((20,21))\n",
    "for k in range(1,21):\n",
    "    for m in range(21):\n",
    "        heatmap[k-1,m] = num_k_m(ranks, k, m)\n",
    "\n",
    "#for heatmap plot\n",
    "import matplotlib.cm\n",
    "fig, ax = plt.subplots()\n",
    "plt.imshow(heatmap, interpolation='none', origin='lower', cmap=matplotlib.cm.coolwarm, extent=[0,20,1,20])\n",
    "plt.title('Heatmap of the Number of Times That a Judge Ranked At \\n Least k Posters in Common with At Least m Other Judges', fontsize=18)\n",
    "labels_x = [0,2,4,6,8,10,12,14,16,18,20]\n",
    "labels_y = [1,3,5,7,9,11,13,15,17,19]\n",
    "plt.xticks(labels_x)\n",
    "plt.yticks(labels_y)\n",
    "plt.colorbar()\n",
    "plt.xlabel('judges', fontsize=18)\n",
    "plt.ylabel('posters', fontsize=18)\n",
    "plt.show()\n",
    "\n",
    "borda_score_aggr = borda_reduction_score(ranks, n)\n",
    "print 'Borda Rank Aggregation:', [t[0] for t in borda_score_aggr]"
   ]
  },
  {
   "cell_type": "markdown",
   "metadata": {},
   "source": [
    "## Day 2 Finalist Data\n",
    "Below is the full ranking data from 8 judges on the 5 finalist posters whose numbers have been randomized along with the code to run Kemeny, Borda, and BTL."
   ]
  },
  {
   "cell_type": "code",
   "execution_count": 6,
   "metadata": {},
   "outputs": [
    {
     "name": "stdout",
     "output_type": "stream",
     "text": [
      "[LibLinear]m,n 70 25\n",
      "(ignore output above from the ILP solver)\n",
      "\n",
      "RESULTS:\n",
      "Borda: [1, 0, 2, 3, 4]\n",
      "BTL: [0, 1, 2, 3, 4]\n",
      "Kemeny solved as an ILP with lpsolve55: [2, 1, 0, 4, 3]\n",
      "All Kemeny Solutions Solved with Brute Force: [[0, 1, 2, 4, 3], [2, 1, 0, 4, 3], [2, 0, 1, 4, 3], [0, 2, 1, 4, 3], [1, 0, 2, 4, 3], [1, 2, 0, 4, 3]]\n"
     ]
    },
    {
     "name": "stderr",
     "output_type": "stream",
     "text": [
      "lp_solve.py:38: FutureWarning: comparison to `None` will result in an elementwise object comparison in the future.\n",
      "  if f == None:\n"
     ]
    }
   ],
   "source": [
    "#randomized finalist data\n",
    "ranks_finalists = [[1, 4, 2, 0, 3],\n",
    "                   [3, 2, 0, 1, 4],\n",
    "                   [3, 1, 2, 0, 4],\n",
    "                   [1, 0, 2, 4, 3],\n",
    "                   [0, 4, 1, 2, 3],\n",
    "                   [0, 2, 1, 4, 3],\n",
    "                   [3, 2, 1, 0, 4],\n",
    "                   [0, 2, 1, 4, 3]]\n",
    "n = 5\n",
    "\n",
    "borda_aggr = borda_reduction(ranks_finalists, n)\n",
    "borda_score_aggr = borda_reduction_score(ranks_finalists, n)\n",
    "btl_aggr = btl(ranks_finalists, n)\n",
    "_, kemeny_aggr, x_lpsolve = kemeny_lpsolve(ranks_finalists, n)\n",
    "kemeny_brute = rankaggr_brute(ranks_finalists, n)\n",
    "\n",
    "print '(ignore output above from the ILP solver)'\n",
    "print '\\n', 'RESULTS:'\n",
    "print 'Borda:', [t for t in borda_aggr]\n",
    "print 'BTL:', [t for t in btl_aggr]\n",
    "print 'Kemeny solved as an ILP with lpsolve55:', [t for t in kemeny_aggr]\n",
    "print 'All Kemeny Solutions Solved with Brute Force:', [[t for t in ranking] for ranking in kemeny_brute]\n"
   ]
  }
 ],
 "metadata": {
  "kernelspec": {
   "display_name": "Python 2",
   "language": "python",
   "name": "python2"
  },
  "language_info": {
   "codemirror_mode": {
    "name": "ipython",
    "version": 2
   },
   "file_extension": ".py",
   "mimetype": "text/x-python",
   "name": "python",
   "nbconvert_exporter": "python",
   "pygments_lexer": "ipython2",
   "version": "2.7.13"
  }
 },
 "nbformat": 4,
 "nbformat_minor": 2
}
